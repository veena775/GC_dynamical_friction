{
 "cells": [
  {
   "cell_type": "code",
   "execution_count": 2,
   "id": "9ed511ad-f235-48d1-af75-d887556371df",
   "metadata": {},
   "outputs": [],
   "source": [
    "import numpy as np\n",
    "import math"
   ]
  },
  {
   "cell_type": "code",
   "execution_count": 3,
   "id": "a81216c5-3d6a-4dba-926a-2c35cf4ac5ad",
   "metadata": {
    "tags": []
   },
   "outputs": [],
   "source": [
    "#So rho_0 and r_0 are going to depend on the mass and concentration of the halo, denoted by c\n",
    "#get concentrations from mass is Diemer & Joyce 2019\n",
    "#https://iopscience.iop.org/article/10.3847/1538-4357/aafad6\n",
    "#The relevant figure is the top middle panel of figure 3. \n",
    "#Since we run the simulation for 10 Gyr, this corresponds to redshift approximately 2, so we should be looking at the orange curve\n",
    "\n",
    "#get concentrations as a function of halo mass. as an input, \n",
    "#you should use the halo mass in units of solar masses\n",
    "\n",
    "# a fitting function to Diemer & Joyce 2019 z = 2 c(M):\n",
    "#it’s a “piecewise-power-law fit to the concentration-mass relation at z = 2 from Diemer & Joyce (2019)”\n",
    "def c_func(M_halo):\n",
    "    c_values = np.array([5.606078101846313, 5.505601101255639, 5.296315905448495, 5.094986297483347, 4.901309860470804, 4.666519328282937, 4.500743526125894, 4.329656123893253, 4.154325163981534, 3.975808982640419, 3.834570325527022, 3.727126007769686, 3.6040211391832533, 3.512099050898484, 3.4225214744765236, 3.4402523213171285])\n",
    "    scaled_M_values = np.array([1208795796.6963477, 1628413544.0132532, 2799360456.643171, 5080218046.9130125, 8973072494.285637, 18147780986.393196, 31197345819.126064, 52197182204.356415, 97327438615.81503, 191581222925.96384, 347677407476.5763, 566162599282.2716, 1114445470753.5625, 2193696137571.7903, 5976825664072.4, 14221361511653.348])\n",
    "    scaled_M = M_halo/0.7\n",
    "    return 10**np.interp(np.log10(scaled_M), np.log10(scaled_M_values), np.log10(c_values))\n",
    "\n",
    "\n",
    "# NFW halo - eqs (3) and (4)\n",
    "# Mstellar = 1.72*10**8\n",
    "# logMstellar = np.log10(Mstellar)\n",
    "# M_halo = 10**logMhalo_eq(logMstellar)\n",
    "# print(M_halo)\n",
    "# M_halo = 106210089323.59808 \n",
    "# M_halo = 10**10.34446449\n",
    "\n",
    "def rho_0_func (M_halo):  # in 10^5 solar masses / kpc^3 ?????\n",
    "    rho_crit = 0.00136 # 10^5 Solar masses / kpc^3\n",
    "    c = c_func(M_halo)\n",
    "    # c = 5\n",
    "    rho_0 = 200/3 * c**3 * rho_crit / (np.log(1+c) - c/(1+c))\n",
    "    return (rho_0)\n",
    "\n",
    "def r_0_func (M_halo):  ## in kpc\n",
    "    rho_crit = 136 #Solar masses / kpc^3\n",
    "    c = c_func(M_halo)\n",
    "    # c = 5\n",
    "    r_0 = 1/c * (3*M_halo/ (800 * math.pi * rho_crit))**(1/3)\n",
    "    return (r_0)\n"
   ]
  },
  {
   "cell_type": "code",
   "execution_count": 8,
   "id": "62b28583-81b3-42dc-baef-ea12e19750b0",
   "metadata": {
    "scrolled": true,
    "tags": []
   },
   "outputs": [],
   "source": [
    "halo_masses = [39810717100, 251188643000, 79432823500, 251188643000, 199526231000, 125892541000, \n",
    "               125892541000, 125892541000, 158489319000, 158489319000, 316227766000, 50118723400, \n",
    "               199526231000, 79432823500, 316227766000, 251188643000, 100000000000, 79432823500, \n",
    "               199526231000, 251188643000, 398107171000, 63095734400, 63095734400, 398107171000, \n",
    "               50118723400, 19952623100, 251188643000, 125892541000, 15848931900, 31622776600, \n",
    "               50118723400, 79432823500, 199526231000, 158489319000, 501187234000, 100000000000, \n",
    "               199526231000, 100000000000, 158489319000, 79432823500, 316227766000, 63095734400, \n",
    "               39810717100, 316227766000, 63095734400, 39810717100, 158489319000, 79432823500, \n",
    "               100000000000, 79432823500, 79432823500, 316227766000, 125892541000, 125892541000, \n",
    "               398107171000, 100000000000, 63095734400, 79432823500, 199526231000, 199526231000, \n",
    "               199526231000, 630957344000, 25118864300, 158489319000, 125892541000, 31622776600, \n",
    "               39810717100, 125892541000, 31622776600, 251188643000, 199526231000, 100000000000, \n",
    "               94328235000, 125892541000, 79432823500, 199526231000, 199526231000, 158489319000, \n",
    "               158489319000, 158489319000, 100000000000, 630957344000, 501187234000, 199526231000, \n",
    "               50118723400, 158489319000, 398107171000, 125892541000, 39810717100, 63095734400, \n",
    "               398107171000, 63095734400, 251188643000, 398107171000, 199526231000, 630957344000, \n",
    "               398107171000, 199526231000, 316227766000, 316227766000]\n",
    "\n",
    "\n",
    "    \n",
    "rho_0 = []\n",
    "r_0 = []\n",
    "for i in range(len(halo_masses)):\n",
    "    rho_0.append(rho_0_func(halo_masses[i]))\n",
    "    r_0.append(r_0_func(halo_masses[i]))\n",
    "    "
   ]
  },
  {
   "cell_type": "code",
   "execution_count": 14,
   "id": "411bd054-3a50-44a0-b629-056bd9b8ef31",
   "metadata": {},
   "outputs": [
    {
     "name": "stdout",
     "output_type": "stream",
     "text": [
      "[8.44, 6.51, 7.63, 6.51, 6.71, 7.14, 7.14, 7.14, 6.92, 6.92, 6.32, 8.16, 6.71, 7.63, 6.32, 6.51, 7.38, 7.63, 6.71, 6.51, 6.13, 7.88, 7.88, 6.13, 8.16, 9.45, 6.51, 7.14, 9.78, 8.76, 8.16, 7.63, 6.71, 6.92, 5.98, 7.38, 6.71, 7.38, 6.92, 7.63, 6.32, 7.88, 8.44, 6.32, 7.88, 8.44, 6.92, 7.63, 7.38, 7.63, 7.63, 6.32, 7.14, 7.14, 6.13, 7.38, 7.88, 7.63, 6.71, 6.71, 6.71, 5.84, 9.1, 6.92, 7.14, 8.76, 8.44, 7.14, 8.76, 6.51, 6.71, 7.38, 7.44, 7.14, 7.63, 6.71, 6.71, 6.92, 6.92, 6.92, 7.38, 5.84, 5.98, 6.71, 8.16, 6.92, 6.13, 7.14, 8.44, 7.88, 6.13, 7.88, 6.51, 6.13, 6.71, 5.84, 6.13, 6.71, 6.32, 6.32]\n"
     ]
    }
   ],
   "source": [
    "rho0_rounded = []\n",
    "for i in range (len(rho_0)):\n",
    "    rho0_rounded.append(round(rho_0[i], 2))\n",
    "    \n",
    "print(rho0_rounded)"
   ]
  },
  {
   "cell_type": "code",
   "execution_count": 16,
   "id": "94dbb26b-e99a-4fb6-b0ee-ccef10ac0820",
   "metadata": {},
   "outputs": [
    {
     "name": "stdout",
     "output_type": "stream",
     "text": [
      "[16.36, 34.0, 21.56, 34.0, 31.06, 25.9, 25.9, 25.9, 28.36, 28.36, 37.21, 17.94, 31.06, 21.56, 37.21, 34.0, 23.63, 21.56, 31.06, 34.0, 40.72, 19.67, 19.67, 40.72, 17.94, 12.36, 34.0, 25.9, 11.27, 14.9, 17.94, 21.56, 31.06, 28.36, 44.48, 23.63, 31.06, 23.63, 28.36, 21.56, 37.21, 19.67, 16.36, 37.21, 19.67, 16.36, 28.36, 21.56, 23.63, 21.56, 21.56, 37.21, 25.9, 25.9, 40.72, 23.63, 19.67, 21.56, 31.06, 31.06, 31.06, 48.58, 13.56, 28.36, 25.9, 14.9, 16.36, 25.9, 14.9, 34.0, 31.06, 23.63, 23.08, 25.9, 21.56, 31.06, 31.06, 28.36, 28.36, 28.36, 23.63, 48.58, 44.48, 31.06, 17.94, 28.36, 40.72, 25.9, 16.36, 19.67, 40.72, 19.67, 34.0, 40.72, 31.06, 48.58, 40.72, 31.06, 37.21, 37.21]\n"
     ]
    }
   ],
   "source": [
    "r0_rounded = []\n",
    "for i in range (len(r_0)):\n",
    "    r0_rounded.append(round(r_0[i], 2))\n",
    "    \n",
    "print(r0_rounded)"
   ]
  },
  {
   "cell_type": "code",
   "execution_count": 10,
   "id": "67f01010-4b7f-41e0-b9a0-9d32be790ba4",
   "metadata": {},
   "outputs": [
    {
     "name": "stdout",
     "output_type": "stream",
     "text": [
      "[ 0.39810717  0.89125094  1.99526231  4.46683592 10.        ]\n"
     ]
    }
   ],
   "source": [
    "R_es = np.linspace(2.6, 4, 5)  #log Re in pc\n",
    "R_es = 10**R_es/1000 # Re in kpc\n",
    "print(R_es)"
   ]
  },
  {
   "cell_type": "code",
   "execution_count": 14,
   "id": "9aecafff-ac58-4141-8a51-843d0f5ddfc9",
   "metadata": {},
   "outputs": [
    {
     "name": "stdout",
     "output_type": "stream",
     "text": [
      "[  1.           4.46683592  19.95262315  89.12509381 398.10717055]\n"
     ]
    }
   ],
   "source": [
    "GC_masses = np.linspace(5, 7.6, 5)  #log Re in solar masses \n",
    "GC_masses = 10**GC_masses/10**5 #Re in 10^5 solar masses\n",
    "print(GC_masses)"
   ]
  },
  {
   "cell_type": "code",
   "execution_count": 12,
   "id": "8ef0c9f3-80a4-49ba-89ca-052563b162b2",
   "metadata": {},
   "outputs": [
    {
     "name": "stdout",
     "output_type": "stream",
     "text": [
      "[1.00000000e+10 3.75837404e+10 1.41253754e+11 5.30884444e+11\n",
      " 1.99526231e+12]\n"
     ]
    }
   ],
   "source": [
    "halo_masses = halo_masses = np.linspace(10, 12.3, 5) #log DM M in solar masses\n",
    "halo_masses = 10**halo_masses #DM M in solar masses\n",
    "print(halo_masses)"
   ]
  },
  {
   "cell_type": "code",
   "execution_count": null,
   "id": "341d5d6f-cb82-4421-b44d-3def8b0b2f95",
   "metadata": {},
   "outputs": [],
   "source": []
  }
 ],
 "metadata": {
  "kernelspec": {
   "display_name": "gcfriction [~/.conda/envs/gcfriction/]",
   "language": "python",
   "name": "conda_gcfriction"
  },
  "language_info": {
   "codemirror_mode": {
    "name": "ipython",
    "version": 3
   },
   "file_extension": ".py",
   "mimetype": "text/x-python",
   "name": "python",
   "nbconvert_exporter": "python",
   "pygments_lexer": "ipython3",
   "version": "3.7.16"
  }
 },
 "nbformat": 4,
 "nbformat_minor": 5
}

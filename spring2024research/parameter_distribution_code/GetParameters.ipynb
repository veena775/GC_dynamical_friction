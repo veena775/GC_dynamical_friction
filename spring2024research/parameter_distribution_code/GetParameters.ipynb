{
 "cells": [
  {
   "cell_type": "code",
   "execution_count": 1,
   "id": "f64c8644-8b79-436e-9352-e2f3db85c04d",
   "metadata": {},
   "outputs": [],
   "source": [
    "import numpy as np\n",
    "import matplotlib as mpl\n",
    "from matplotlib import cm\n",
    "import matplotlib.pyplot as plt\n",
    "from scipy import stats\n",
    "from scipy.optimize import curve_fit\n",
    "from scipy import asarray as ar,exp\n",
    "from scipy.stats import norm\n",
    "import math\n",
    "import statistics\n",
    "from scipy.optimize import fsolve\n",
    "##plt.rcParams['text.usetex'] = False\n",
    "import matplotlib as mpl\n",
    "mpl.rcParams['mathtext.fontset'] = 'cm'\n",
    "mpl.rcParams['font.family'] = 'serif'\n",
    "from ParameterDistributions import *"
   ]
  },
  {
   "cell_type": "code",
   "execution_count": 2,
   "id": "927cd6a2-31d3-41de-9924-e2114d86cfef",
   "metadata": {},
   "outputs": [
    {
     "name": "stdout",
     "output_type": "stream",
     "text": [
      "Re:  [3.09213789 3.23319182 3.21753809 2.82688939 2.9555941  2.80532447\n",
      " 3.1416189  3.07044463 2.81726901 3.00067555 2.76907847 3.05928421\n",
      " 3.0676328  2.85875326 2.88440038 3.10131914 3.13432257 3.21831396\n",
      " 2.89596603 2.83079094]\n",
      "GC:  [7.18104744 7.11697132 7.886417   7.11619295 6.1975543  7.21871987\n",
      " 7.71831158 7.48169457 6.77344964 7.20123557 6.65043984 6.76559413\n",
      " 6.4364284  7.24957963 6.33874755 8.0031804  6.1993743  5.34023404\n",
      " 6.95143328 5.68297852]\n",
      "Halo:  [ 9.91820376 11.92584996  9.83554515 11.02271289 10.84143559 10.90212635\n",
      " 10.35782035  9.6792103  11.2092447  10.92050622 10.68357267 10.84853046\n",
      " 10.57512523 11.428999   11.44069474 11.56178706 10.80489336 10.48373689\n",
      " 10.39594753  9.78523742]\n"
     ]
    }
   ],
   "source": [
    "\n",
    "logMstellar = 8\n",
    "n = 20\n",
    "\n",
    "DM_sample = DM_random_sample(logMstellar, n)\n",
    "Re_sample = Re_random_sample(logMstellar, n)\n",
    "\n",
    "lbound, ubound, histbins = Stripe_bounds(logMstellar)\n",
    "M_GCstripe, M_Sstripe = GC_stripe_func (M_GC, M_S, lbound, ubound)\n",
    "GC_sample = GC_random_sample(M_GCstripe, n)\n",
    "\n",
    "\n",
    "\n",
    "\n",
    "print ('Re: ', Re_sample)\n",
    "print ('GC: ', GC_sample)\n",
    "print ('Halo: ', DM_sample)\n"
   ]
  },
  {
   "cell_type": "code",
   "execution_count": 3,
   "id": "decf768c-458c-43c0-a05c-d803f9c5b724",
   "metadata": {},
   "outputs": [
    {
     "name": "stdout",
     "output_type": "stream",
     "text": [
      "[8283306949.837013, 843043455947.6769, 6847706623.818053, 105369006900.93407, 69412165605.96973, 79822687790.70055, 22793989968.196457, 4777605692.618612, 161899197826.80515, 83273385437.4893, 48258372221.13513, 70555433546.0235, 37594579794.54443, 268533827312.20605, 275863818133.53906, 364575150143.2955, 63810678688.13343, 30460490645.66651, 24885566277.906536, 6098702087.626957]\n"
     ]
    }
   ],
   "source": [
    "# log_halo = [10.61621056, 10.36993693, 11.83450881, 11.88756757, 10.39255227, 10.89117852,\n",
    "#  10.07372343, 10.56981257, 10.00266097, 11.24959646, 11.60529765, 10.66069116,\n",
    "#  10.91946627,  9.82225536, 10.94421611, 10.37915885, 10.23486322, 10.78984858,\n",
    "#  10.46579836,  9.98551566]\n",
    "log_halo = DM_sample\n",
    "\n",
    "DM_sample = []\n",
    "for i in range (len(log_halo)):\n",
    "    halo = 10**log_halo[i]\n",
    "    DM_sample.append(halo)\n",
    "    \n",
    "print(DM_sample)"
   ]
  },
  {
   "cell_type": "code",
   "execution_count": 4,
   "id": "35729e84-350f-4cc9-a6b0-bdcd389b33de",
   "metadata": {},
   "outputs": [
    {
     "name": "stdout",
     "output_type": "stream",
     "text": [
      "Re:  [1.23633991 1.71077077 1.65020573 0.67125787 0.90280531 0.63874052\n",
      " 1.38553948 1.17610103 0.65655182 1.00155672 0.58759552 1.14626284\n",
      " 1.16851099 0.72235929 0.76630274 1.26275512 1.36245628 1.65315645\n",
      " 0.78698423 0.67731538]\n",
      "GC:  [ 151.72161065  130.90954684  769.86929125  130.67513228   15.75993052\n",
      "  165.47022965  522.77111027  303.17582609   59.35395151  158.94086294\n",
      "   44.71362053   58.29001022   27.3167104   177.65589742   21.81461479\n",
      " 1007.35002471   15.82611438    2.1889409    89.41971547    4.81923959]\n",
      "Halo:  [8283306949.837013, 843043455947.6769, 6847706623.818053, 105369006900.93407, 69412165605.96973, 79822687790.70055, 22793989968.196457, 4777605692.618612, 161899197826.80515, 83273385437.4893, 48258372221.13513, 70555433546.0235, 37594579794.54443, 268533827312.20605, 275863818133.53906, 364575150143.2955, 63810678688.13343, 30460490645.66651, 24885566277.906536, 6098702087.626957]\n"
     ]
    }
   ],
   "source": [
    "for i in range (len(Re_sample)):\n",
    "    GC_sample[i] = (10**GC_sample[i])/10**5  #10^5 solar masses\n",
    "    Re_sample[i] = (10**Re_sample[i])/1000  #kpc\n",
    "    DM_sample[i] = DM_sample[i]  #solar masses\n",
    "\n",
    "print ('Re: ', Re_sample)\n",
    "print ('GC: ', GC_sample)\n",
    "print ('Halo: ', DM_sample)"
   ]
  },
  {
   "cell_type": "code",
   "execution_count": 50,
   "id": "86876848-5fac-45cf-95e5-b0525785de55",
   "metadata": {},
   "outputs": [
    {
     "name": "stdout",
     "output_type": "stream",
     "text": [
      "Re:  [1.208, 1.217, 2.173, 1.847, 1.529, 1.325, 1.135, 0.407, 1.907, 1.051, 0.698, 0.958, 0.963, 1.146, 1.118, 1.434, 2.144, 1.112, 0.988, 0.573]\n",
      "GC:  [2263.722, 15.138, 82.999, 26.813, 5.322, 716.323, 79.709, 54.896, 170.549, 83.838, 11.619, 1.666, 43.968, 1.869, 162.252, 15.221, 779.526, 29.664, 17.837, 326.743]\n",
      "Halo:  [41324780932.1, 23438884016.6, 683138575834.0, 771911604630.5, 24691772676.3, 77835643453.3, 11850138602.4, 37137491892.4, 10061459189.9, 177662782658.2, 402993136870.0, 45781620391.6, 83074219561.1, 6641334582.1, 87946003753.7, 23941913091.9, 17173674212.5, 61638005890.3, 29227950287.4, 9671986017.4]\n"
     ]
    }
   ],
   "source": [
    "for i in range(len(GC_sample)):\n",
    "    GC_sample[i] = round(GC_sample[i], 3)\n",
    "    Re_sample[i] = round(Re_sample[i], 3)\n",
    "    DM_sample[i] = round(DM_sample[i], 1)\n",
    "print ('Re: ', Re_sample)\n",
    "print ('GC: ', GC_sample)\n",
    "print ('Halo: ', DM_sample)  "
   ]
  },
  {
   "cell_type": "code",
   "execution_count": 54,
   "id": "99832e32-307e-4ec6-ba17-7e13de462b12",
   "metadata": {},
   "outputs": [
    {
     "name": "stdout",
     "output_type": "stream",
     "text": [
      "Re:  [1.208, 1.217, 1.325, 1.135, 0.407, 1.051, 0.698, 0.958, 0.963, 1.146, 1.118, 1.434, 1.112, 0.988, 0.573]\n",
      "GC:  [2263.722, 82.999, 26.813, 716.323, 79.709, 54.896, 170.549, 83.838, 43.968, 162.252, 779.526, 29.664, 326.743]\n",
      "Halo:  [41324780932.1, 23438884016.6, 24691772676.3, 77835643453.3, 11850138602.4, 37137491892.4, 10061459189.9, 177662782658.2, 45781620391.6, 83074219561.1, 6641334582.1, 87946003753.7, 23941913091.9, 17173674212.5, 61638005890.3, 29227950287.4, 9671986017.4]\n",
      "Re:  15\n",
      "GC:  13\n",
      "Halo:  17\n"
     ]
    }
   ],
   "source": [
    "filtered_GC_sample = []\n",
    "filtered_Re_sample = []\n",
    "filtered_DM_sample = []\n",
    "GC_max = 20\n",
    "Re_max = 1.5\n",
    "DM_max = 2.5 * 10**11\n",
    "for i in range(len(GC_sample)):\n",
    "    if GC_sample[i] > GC_max:\n",
    "        filtered_GC_sample.append(GC_sample[i])\n",
    "    if Re_sample[i] < Re_max:\n",
    "        filtered_Re_sample.append(Re_sample[i])       \n",
    "    if DM_sample[i] < DM_max:\n",
    "        filtered_DM_sample.append(DM_sample[i])    \n",
    "        \n",
    "\n",
    "print ('Re: ', filtered_Re_sample)\n",
    "print ('GC: ', filtered_GC_sample)\n",
    "print ('Halo: ', filtered_DM_sample)  \n",
    "\n",
    "\n",
    "print ('Re: ', len(filtered_Re_sample))\n",
    "print ('GC: ', len(filtered_GC_sample))\n",
    "print ('Halo: ',len( filtered_DM_sample))\n",
    "\n",
    "\n"
   ]
  },
  {
   "cell_type": "code",
   "execution_count": null,
   "id": "f91d5ad2-b1ec-48ba-97f3-d3d3e2ed60f8",
   "metadata": {},
   "outputs": [],
   "source": []
  }
 ],
 "metadata": {
  "kernelspec": {
   "display_name": "Python 3 (ipykernel)",
   "language": "python",
   "name": "python3"
  },
  "language_info": {
   "codemirror_mode": {
    "name": "ipython",
    "version": 3
   },
   "file_extension": ".py",
   "mimetype": "text/x-python",
   "name": "python",
   "nbconvert_exporter": "python",
   "pygments_lexer": "ipython3",
   "version": "3.7.16"
  }
 },
 "nbformat": 4,
 "nbformat_minor": 5
}

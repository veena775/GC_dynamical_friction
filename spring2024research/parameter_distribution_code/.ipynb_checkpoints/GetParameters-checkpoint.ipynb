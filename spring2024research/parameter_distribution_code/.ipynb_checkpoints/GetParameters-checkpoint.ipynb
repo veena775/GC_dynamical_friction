{
 "cells": [
  {
   "cell_type": "code",
   "execution_count": 1,
   "id": "f64c8644-8b79-436e-9352-e2f3db85c04d",
   "metadata": {},
   "outputs": [],
   "source": [
    "import numpy as np\n",
    "import matplotlib as mpl\n",
    "from matplotlib import cm\n",
    "import matplotlib.pyplot as plt\n",
    "from scipy import stats\n",
    "from scipy.optimize import curve_fit\n",
    "from scipy import asarray as ar,exp\n",
    "from scipy.stats import norm\n",
    "import math\n",
    "import statistics\n",
    "from scipy.optimize import fsolve\n",
    "##plt.rcParams['text.usetex'] = False\n",
    "import matplotlib as mpl\n",
    "mpl.rcParams['mathtext.fontset'] = 'cm'\n",
    "mpl.rcParams['font.family'] = 'serif'\n",
    "from ParameterDistributions import *"
   ]
  },
  {
   "cell_type": "code",
   "execution_count": null,
   "id": "927cd6a2-31d3-41de-9924-e2114d86cfef",
   "metadata": {},
   "outputs": [],
   "source": [
    "\n",
    "logMstellar = 8\n",
    "n = 20\n",
    "\n",
    "DM_sample = DM_random_sample(logMstellar, n)\n",
    "Re_sample = Re_random_sample(logMstellar, n)\n",
    "\n",
    "lbound, ubound, histbins = Stripe_bounds(logMstellar)\n",
    "M_GCstripe, M_Sstripe = GC_stripe_func (M_GC, M_S, lbound, ubound)\n",
    "GC_sample = GC_random_sample(M_GCstripe, n)\n",
    "\n",
    "\n",
    "\n",
    "\n",
    "print ('Re: ', Re_sample)\n",
    "print ('GC: ', GC_sample)\n",
    "print ('Halo: ', DM_sample)\n"
   ]
  },
  {
   "cell_type": "code",
   "execution_count": null,
   "id": "76ee22ef-46cc-41fd-88d2-fa9903d4d3bb",
   "metadata": {},
   "outputs": [],
   "source": [
    "Re_sample = [1.53239508, 2.90277581, 0.74401637, 1.18889862, 2.11042019, 0.98444861,\n",
    " 0.99960505, 1.42970509, 1.5681506,  0.88548025, 3.17477447, 0.82402456,\n",
    " 0.63540892, 1.05342352, 3.4766352,  1.47598624, 1.61196329, 1.42590726,\n",
    " 1.70731518, 1.39300399]\n",
    "\n",
    "\n",
    "\n",
    "GC_sample = [ 7.8762627,  17.79520947, 19.19769758,  5.75918816, 11.16904601, 16.12757648,\n",
    "  7.68512067,  5.51991984, 42.08897264, 22.00512255,  3.89387878, 12.21430189,\n",
    "  4.61469182, 25.89079167, 32.22007898, 18.81160987, 27.72601655, 10.28096513,\n",
    "  6.33986752, 38.22206118]\n",
    "\n",
    "DM_sample = [9.32726143*10**10, 2.62488939*10**10, 2.56044812*10**11, 6.88327683*10**10,\n",
    " 1.74653093*10**11, 1.03838141*10**11, 3.62040398*10**11, 7.14850956*10**10,\n",
    " 1.33619820*10**11, 4.68353599*10**10, 1.93382372*10**10, 1.67265950*10**11,\n",
    " 4.53786287*10**10, 3.68009259*10**10, 1.23862238*10**11, 7.34761068*10**10,\n",
    " 3.21975609*10**10, 3.27226465*10**11, 1.50636807*10**11, 7.54885922*10**9]\n",
    "\n",
    "\n",
    "\n",
    "\n",
    "for i in range(len(GC_sample)):\n",
    "    GC_sample[i] = round(GC_sample[i], 3)\n",
    "    Re_sample[i] = round(Re_sample[i], 3)\n",
    "    DM_sample[i] = round(DM_sample[i], 1)\n",
    "print ('Re: ', Re_sample)\n",
    "print ('GC: ', GC_sample)\n",
    "print ('Halo: ', DM_sample)    "
   ]
  },
  {
   "cell_type": "code",
   "execution_count": null,
   "id": "35729e84-350f-4cc9-a6b0-bdcd389b33de",
   "metadata": {},
   "outputs": [],
   "source": [
    "for i in range(len(GC_sample)):\n",
    "    GC_sample[i] = 10**GC_sample[i]/10**5  #10^5 solar masses\n",
    "    Re_sample[i] = 10**Re_sample[i]/1000  #kpc\n",
    "    DM_sample[i] = 10**DM_sample[i]  #solar masses\n",
    "\n",
    "print ('Re: ', Re_sample)\n",
    "print ('GC: ', GC_sample)\n",
    "print ('Halo: ', DM_sample)"
   ]
  }
 ],
 "metadata": {
  "kernelspec": {
   "display_name": "Python 3 (ipykernel)",
   "language": "python",
   "name": "python3"
  },
  "language_info": {
   "codemirror_mode": {
    "name": "ipython",
    "version": 3
   },
   "file_extension": ".py",
   "mimetype": "text/x-python",
   "name": "python",
   "nbconvert_exporter": "python",
   "pygments_lexer": "ipython3",
   "version": "3.7.16"
  }
 },
 "nbformat": 4,
 "nbformat_minor": 5
}

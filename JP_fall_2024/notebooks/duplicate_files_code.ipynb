{
 "cells": [
  {
   "cell_type": "markdown",
   "id": "4a470b2f-f000-4448-9aad-96600c4b26db",
   "metadata": {},
   "source": [
    "# Change values in C files"
   ]
  },
  {
   "cell_type": "code",
   "execution_count": 1,
   "id": "04fc6c9c-f93b-4340-ba10-700a725f1e85",
   "metadata": {},
   "outputs": [],
   "source": [
    "import os\n",
    "import shutil\n",
    "from DM_halo_functions import *\n",
    "\n",
    "trial_num = 'uniform_final_v1'\n",
    "param_values = np.load('param_values/param_values_trial'+str(trial_num)+'.npy')\n",
    "halo_masses = param_values[:,2]  #DM halo in log Solar Mass"
   ]
  },
  {
   "cell_type": "code",
   "execution_count": 2,
   "id": "89047ae2-11c4-415d-a27e-9a698947f9f1",
   "metadata": {},
   "outputs": [
    {
     "name": "stdout",
     "output_type": "stream",
     "text": [
      "rho0: 15.01, r0: 3.68\n",
      "Created additional_forces_files/additional_forces_rho0_15.01_r0_3.68.c with rho0 = 15.01 and r0 = 3.68.\n",
      "rho0: 11.5, r0: 6.54\n",
      "Created additional_forces_files/additional_forces_rho0_11.5_r0_6.54.c with rho0 = 11.5 and r0 = 6.54.\n",
      "rho0: 8.76, r0: 11.64\n",
      "Created additional_forces_files/additional_forces_rho0_8.76_r0_11.64.c with rho0 = 8.76 and r0 = 11.64.\n",
      "rho0: 6.81, r0: 20.69\n",
      "Created additional_forces_files/additional_forces_rho0_6.81_r0_20.69.c with rho0 = 6.81 and r0 = 20.69.\n",
      "rho0: 5.59, r0: 36.79\n",
      "Created additional_forces_files/additional_forces_rho0_5.59_r0_36.79.c with rho0 = 5.59 and r0 = 36.79.\n"
     ]
    }
   ],
   "source": [
    "\n",
    "original_file = 'additional_forces_UPDATED.c'\n",
    "\n",
    "#iterate over every combination of params\n",
    "i = 0\n",
    "for i in range (len(halo_masses)):\n",
    "    rho0 = rho_0_func(halo_masses[i])\n",
    "    r0 = r_0_func(halo_masses[i])\n",
    "    \n",
    "    rho0_rounded = round(rho0, 2)\n",
    "    r0_rounded = round(r0, 2)\n",
    "\n",
    "    print(f\"rho0: {rho0_rounded}, r0: {r0_rounded}\")\n",
    "    \n",
    "    # Define the variations for the new file names\n",
    "    new_file_name = ('additional_forces_files/additional_forces_rho0_'+str(rho0_rounded)+'_r0_'+str(r0_rounded)+'.c')\n",
    "    \n",
    "    # Read the content of the original file\n",
    "    with open(original_file, 'r') as file:\n",
    "        content = file.read()\n",
    "    \n",
    "    # Replace the placeholder line with the new values (modify according to your code structure)\n",
    "    # Assuming you have a line in the original file like: `double rho0 = ...;` and `double r0 = ...;`\n",
    "    modified_content = content.replace('double rho_0 = 11.82;', f'double rho_0 = {rho0_rounded};')\n",
    "    modified_content = modified_content.replace('double r_0 = 19.54;', f'double r_0 = {r0_rounded};')\n",
    "    \n",
    "    # Write the modified content to new files with the different names\n",
    "    new_file_path = new_file_name\n",
    "    with open(new_file_path, 'w') as new_file:\n",
    "        new_file.write(modified_content)\n",
    "    \n",
    "    print(f\"Created {new_file_name} with rho0 = {rho0_rounded} and r0 = {r0_rounded}.\")\n",
    "\n"
   ]
  },
  {
   "cell_type": "code",
   "execution_count": null,
   "id": "70dd10ec-5e47-4d5f-bb01-ca395e67e93e",
   "metadata": {},
   "outputs": [],
   "source": []
  }
 ],
 "metadata": {
  "kernelspec": {
   "display_name": "Python 3 (ipykernel)",
   "language": "python",
   "name": "python3"
  },
  "language_info": {
   "codemirror_mode": {
    "name": "ipython",
    "version": 3
   },
   "file_extension": ".py",
   "mimetype": "text/x-python",
   "name": "python",
   "nbconvert_exporter": "python",
   "pygments_lexer": "ipython3",
   "version": "3.11.3"
  }
 },
 "nbformat": 4,
 "nbformat_minor": 5
}

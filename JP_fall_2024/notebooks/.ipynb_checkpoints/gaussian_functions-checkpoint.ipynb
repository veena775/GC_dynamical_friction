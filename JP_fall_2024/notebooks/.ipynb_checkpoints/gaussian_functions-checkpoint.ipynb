{
 "cells": [
  {
   "cell_type": "code",
   "execution_count": null,
   "id": "73fc5cda-8965-4b90-bba4-baacb37f6cdd",
   "metadata": {},
   "outputs": [],
   "source": [
    "import numpy as np\n",
    "import matplotlib as mpl\n",
    "from matplotlib import cm\n",
    "import matplotlib.pyplot as plt\n",
    "from scipy import stats\n",
    "from scipy.optimize import curve_fit\n",
    "from scipy import asarray as ar,exp\n",
    "from scipy.stats import norm\n",
    "import math\n",
    "import statistics\n",
    "from scipy.optimize import fsolve\n",
    "##plt.rcParams['text.usetex'] = False\n",
    "import matplotlib as mpl\n",
    "mpl.rcParams['mathtext.fontset'] = 'cm'\n",
    "mpl.rcParams['font.family'] = 'serif'\n"
   ]
  },
  {
   "cell_type": "code",
   "execution_count": null,
   "id": "774af3cc-9068-499a-b9ae-7e3a6537098e",
   "metadata": {},
   "outputs": [],
   "source": [
    "#### DEFINE GAUSSIAN FUNCTIONS\n",
    "\n",
    "## Gaussian function\n",
    "def Gaussian(x, mu, sigma):\n",
    "    return 1/(sigma * np.sqrt(2 * np.pi)) * np.exp(-(x - mu)**2 / (2 * sigma**2))\n",
    "\n",
    "\n",
    "## Get counts and bincenters from histogram (bincenters later to be used as x values for Gaussian)\n",
    "def Gaussian_counts_bincenters(x, bins):\n",
    "    counts, bin_edges = np.histogram(x, bins=bins, density = True)\n",
    "    bin_centers = (bin_edges[:-1] + bin_edges[1:]) / 2 \n",
    "    return [counts, bin_centers]\n",
    "\n",
    "    \n",
    "## Get Gaussian params - mu and sigma\n",
    "def Gaussian_params(x, bins):\n",
    "    counts, bin_centers = Gaussian_counts_bincenters(x, bins)\n",
    "    p0 = [np.mean(x), np.std(x)]  # Initial guess for the parameters\n",
    "    params, cov = curve_fit(Gaussian, bin_centers, counts, p0=p0)\n",
    "    return params "
   ]
  }
 ],
 "metadata": {
  "kernelspec": {
   "display_name": "Python 3 (ipykernel)",
   "language": "python",
   "name": "python3"
  },
  "language_info": {
   "codemirror_mode": {
    "name": "ipython",
    "version": 3
   },
   "file_extension": ".py",
   "mimetype": "text/x-python",
   "name": "python",
   "nbconvert_exporter": "python",
   "pygments_lexer": "ipython3",
   "version": "3.11.3"
  }
 },
 "nbformat": 4,
 "nbformat_minor": 5
}

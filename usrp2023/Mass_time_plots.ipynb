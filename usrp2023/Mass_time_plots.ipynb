{
 "cells": [
  {
   "cell_type": "code",
   "execution_count": null,
   "id": "aad4a6d1-7d9e-4e72-8f30-e4ec638f124d",
   "metadata": {},
   "outputs": [],
   "source": [
    "# NSC over time plot\n",
    "NSC_masses = np.zeros([10, 21])\n",
    "for output_number in range(21):\n",
    "    filename = 'Sim_n_'+str(n)+'_NFW-1_'+str(output_time)+'_'+str(R_e)+'.txt'\n",
    "    data = np.genfromtxt(filename, skip_header=2)\n",
    "    iterations = data[:, 0]\n",
    "    masses = data[:, 1]\n",
    "    for k in range(50):\n",
    "        relevant_masses = masses[iterations==k]\n",
    "        NSC_masses[k, output_number] = max(relevant_masses)\n",
    "for k in range(50):\n",
    "    plt.plot(np.linspace(0, 10, 21), NSC_masses[k, :], color='lightsteelblue', zorder=0)\n",
    "plt.errorbar(np.linspace(0, 10, 21), np.average(NSC_masses, axis=0), \\\n",
    "             yerr=np.std(NSC_masses, axis=0), color='blue', capsize=5, marker='o', label='NFW-5')\n",
    "plt.plot([-1, 20], [40]*2, '-', c='purple', label='Observed')\n",
    "plt.set_xlim(0, 10)\n",
    "plt.set_xlabel('t (Gyr)', fontsize=20)\n",
    "plt.set_ylabel(r'$M_{NSC}$ ($10^5M_\\odot$)', fontsize=20)\n",
    "plt.legend(loc='lower right', frameon=False, fontsize=20)\n",
    "plt.show()"
   ]
  }
 ],
 "metadata": {
  "kernelspec": {
   "display_name": "Python 3",
   "language": "python",
   "name": "python3"
  },
  "language_info": {
   "codemirror_mode": {
    "name": "ipython",
    "version": 3
   },
   "file_extension": ".py",
   "mimetype": "text/x-python",
   "name": "python",
   "nbconvert_exporter": "python",
   "pygments_lexer": "ipython3",
   "version": "3.8.8"
  }
 },
 "nbformat": 4,
 "nbformat_minor": 5
}
